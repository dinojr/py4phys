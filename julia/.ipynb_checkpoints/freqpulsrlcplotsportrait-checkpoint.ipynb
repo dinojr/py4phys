{
 "cells": [
  {
   "cell_type": "code",
   "execution_count": null,
   "metadata": {
    "collapsed": false
   },
   "outputs": [
    {
     "name": "stderr",
     "output_type": "stream",
     "text": [
      "INFO: Precompiling module Plots...\n"
     ]
    }
   ],
   "source": [
    "using Plots\n",
    "pyplot(size=(350,200),leg=false,\n",
    "guidefont=font(9), titlefont=font(9));\n",
    "R=40;L=1/pi*360E-2;C=1/(pi*360E+2);w=1/(sqrt(L*C))\n",
    "fr=linspace(20,80,100)\n",
    "ω=linspace(20,80,100)\n",
    "y= abs(1 ./ (1+im*2π*ω*R*C-(2π*ω).^2*L*C))\n",
    "plot(fr,y,title=\"Fréquence de résonance\",\n",
    "fill=(0,0.2,:red),bg=RGB(.2,.2,.2),\n",
    "xlabel =\"50Hz\",ylabel = \"Ω\")\n"
   ]
  },
  {
   "cell_type": "code",
   "execution_count": null,
   "metadata": {
    "collapsed": false
   },
   "outputs": [],
   "source": [
    "#R=40;L=1/pi*360E-2;C=1/(pi*360E+2);w=1/(sqrt(L*C))\n",
    "q=linspace(0,2w)\n",
    "p=abs(1./(1+im.*q.*R.*C-q.*q.*L.*C));\n",
    "plot(q,p,title=\"Pulsation de résonance\",\n",
    "fill=(0,0.2,:yellow),\n",
    "bg=RGB(.2,.2,.2),xlabel = \"314 Rad/s\",ylabel = \"Ω\")"
   ]
  },
  {
   "cell_type": "code",
   "execution_count": null,
   "metadata": {
    "collapsed": false
   },
   "outputs": [],
   "source": [
    "m=plot(q,p,title=\"Pulsation de résonance\",\n",
    "fill=(0,0.2,:yellow),\n",
    "bg=RGB(.2,.2,.2),xlabel = \"314 Rad/s\",ylabel = \"Ω\")"
   ]
  },
  {
   "cell_type": "code",
   "execution_count": null,
   "metadata": {
    "collapsed": false
   },
   "outputs": [],
   "source": [
    "n=plot(fr,y,title=\"Fréquence de résonance\",\n",
    "fill=(0,0.2,:red),bg=RGB(.2,.2,.2),\n",
    "xlabel =\"50Hz\",ylabel = \"Ω\")"
   ]
  },
  {
   "cell_type": "code",
   "execution_count": null,
   "metadata": {
    "collapsed": false
   },
   "outputs": [],
   "source": [
    "plot(m,n,layout=2)"
   ]
  },
  {
   "cell_type": "code",
   "execution_count": null,
   "metadata": {
    "collapsed": true
   },
   "outputs": [],
   "source": []
  }
 ],
 "metadata": {
  "kernelspec": {
   "display_name": "Julia 0.5.0-dev",
   "language": "julia",
   "name": "julia-0.5"
  },
  "language_info": {
   "file_extension": ".jl",
   "mimetype": "application/julia",
   "name": "julia",
   "version": "0.5.0"
  }
 },
 "nbformat": 4,
 "nbformat_minor": 0
}
